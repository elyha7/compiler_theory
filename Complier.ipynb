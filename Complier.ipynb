{
 "cells": [
  {
   "cell_type": "code",
   "execution_count": 1,
   "metadata": {
    "collapsed": true
   },
   "outputs": [],
   "source": [
    "import numpy as np\n",
    "import pandas as pd\n",
    "import copy"
   ]
  },
  {
   "cell_type": "code",
   "execution_count": 2,
   "metadata": {
    "collapsed": true
   },
   "outputs": [],
   "source": [
    "table=pd.read_csv('names.csv')\n",
    "names=dict(np.array(table))"
   ]
  },
  {
   "cell_type": "code",
   "execution_count": 20,
   "metadata": {
    "collapsed": false
   },
   "outputs": [],
   "source": [
    "algebra_operators={-1:'+',-2:'-',-3:'*',-4:'/'}\n",
    "binar_operators={-10:'='}\n",
    "cond_op={-20:'>0',-21:'<0',-22:'==0',-23:'>=0',-24:'<=0'}\n",
    "unar_operators={-5:'-',-6:'print',-7:'goto'}\n",
    "operands={1:[1,'numb',1],2:[2,'numb',2],3:[3,'numb',3],4:[4.5,'numb',4.5],\n",
    "          5:['some_string','char','some_string'],6:['a','var',np.NaN],7:['b','var',np.NAN],8:['c','mark',11]}"
   ]
  },
  {
   "cell_type": "code",
   "execution_count": null,
   "metadata": {
    "collapsed": true
   },
   "outputs": [],
   "source": []
  },
  {
   "cell_type": "code",
   "execution_count": 25,
   "metadata": {
    "collapsed": true
   },
   "outputs": [],
   "source": [
    "#stack=[6,2,2,6,-5,-1,-3,-6,-100]\n",
    "#stack=[7,3,-10,6,7,7,-3,-10,6,-6,-100]# '7'=3;'6'='7'*'7';print('6')\n",
    "stack=[7,3,-10,7,8,-20,6,7,7,-3,-10,6,-6,-100]\n",
    "#stack=[6,7,1,-7,-7,6,-6,-100]"
   ]
  },
  {
   "cell_type": "code",
   "execution_count": 26,
   "metadata": {
    "collapsed": false
   },
   "outputs": [],
   "source": [
    "class parser(object):\n",
    "    def __init__(self,stack,operands,trace=True):\n",
    "        self.operands=copy.deepcopy(operands)\n",
    "        self.stack=stack\n",
    "        self.count_stack=[]\n",
    "        self.end_symbols=[-100]\n",
    "        self.trace=trace\n",
    "    def show(self):\n",
    "        print(self.operands)\n",
    "    def count_reversed_form(self,start_point=0):\n",
    "        stack=self.stack\n",
    "        i=0\n",
    "        while stack[i] not in self.end_symbols:\n",
    "            if self.trace==True: print(i,self.count_stack)\n",
    "            if stack[i] in self.operands.keys():\n",
    "                self.count_stack.append([stack[i],'link'])                        \n",
    "            else:\n",
    "                if stack[i] in algebra_operators:\n",
    "                    operation=algebra_operators[stack[i]]\n",
    "                    to_eval=self.unpack(number=2)\n",
    "                    types=self.get_type(to_eval)\n",
    "                    if types[0]=='numeric' and types[1]=='numeric':\n",
    "                        oper_result=eval(str(to_eval[0])+operation+str(to_eval[1]))\n",
    "                        #print(oper_result)\n",
    "                        self.count_stack[-2]=[oper_result,'value']\n",
    "                        self.count_stack=self.count_stack[:-1]\n",
    "                    else:\n",
    "                        print('ERROR: wrong types')\n",
    "                        return -1\n",
    "                if stack[i] in binar_operators:\n",
    "                    values=self.unpack(number=2)\n",
    "                    types=self.get_type(values)\n",
    "                    if stack[i]==-10:\n",
    "                        if isnan(types[0]) and isnan(types[1]):\n",
    "                            print('ERROR: both operands are undefined')\n",
    "                            return -2\n",
    "                        elif types[0]==types[1] or isnan(types[0]):\n",
    "                            self.operands[self.count_stack[-2][0]][2]=values[1]\n",
    "                            self.count_stack[-2]==[values[1],'value']\n",
    "                            self.count_stack=self.count_stack[:-1]\n",
    "                        else:\n",
    "                            print('ERROR: worong types, trying to write {}->{}'.format(values[1],types[0]))\n",
    "                            return -2\n",
    "                if stack[i] in unar_operators:\n",
    "                    value=self.unpack(number=1)\n",
    "                    if stack[i]==-5 and self.get_type(value):\n",
    "                        self.count_stack[-1]=[value*-1,'value']\n",
    "                    if stack[i]==-6:\n",
    "                        print(value)\n",
    "                        self.count_stack=self.count_stack[:-1]\n",
    "                    if stack[i]==-7:\n",
    "                        adress=self.unpack(number=1)\n",
    "                        self.count_stack=self.count_stack[:-1]\n",
    "                        i=adress\n",
    "                        continue\n",
    "                if stack[i] in cond_op:\n",
    "                    operator=cond_op[stack[i]]\n",
    "                    values=self.unpack(number=2) ## value+mark\n",
    "#                     print(str(values[0])+operator)\n",
    "                    result=eval(str(values[0])+operator)  ## condition on value\n",
    "                    if result: ## go further\n",
    "                        i+=1\n",
    "                        self.count_stack=self.count_stack[:-2]\n",
    "                        continue\n",
    "                    else: # go on mark\n",
    "                        i=values[1]\n",
    "                        self.count_stack=self.count_stack[:-2]\n",
    "                        continue\n",
    "            i+=1\n",
    "        return self.operands\n",
    "    def unpack(self,number=2):\n",
    "        result=[]\n",
    "        if number==2:\n",
    "            for i in self.count_stack[-2:]:\n",
    "                if i[1]=='link':\n",
    "                    result.append(self.operands[i[0]][2])\n",
    "                    continue\n",
    "                elif i[1]=='value':\n",
    "                    result.append(i[0])\n",
    "                    continue\n",
    "                else:\n",
    "                    print('Unknown type')\n",
    "            #print(result)\n",
    "            return result\n",
    "        if number==1:\n",
    "            temp=self.count_stack[-1]\n",
    "            return (self.operands[temp[0]][2] if self.count_stack[-1][1]=='link' else temp[0])\n",
    "    def get_type(self,x):\n",
    "        a=x if isinstance(x,(list,tuple)) else [x]\n",
    "        to_ret=[]\n",
    "        for i in a:\n",
    "            if isnan(i):\n",
    "                to_ret.append(np.NAN)\n",
    "            else:\n",
    "                if isinstance(i, (int, long, float)):\n",
    "                    to_ret.append('numeric')\n",
    "                else:\n",
    "                    to_ret.append('str')\n",
    "        return(to_ret if len(to_ret)>1 else to_ret[0])\n",
    "def isnan(x):\n",
    "    return x!=x"
   ]
  },
  {
   "cell_type": "code",
   "execution_count": 27,
   "metadata": {
    "collapsed": false
   },
   "outputs": [],
   "source": [
    "worker=parser(stack,operands,True)"
   ]
  },
  {
   "cell_type": "code",
   "execution_count": 28,
   "metadata": {
    "collapsed": false
   },
   "outputs": [
    {
     "name": "stdout",
     "output_type": "stream",
     "text": [
      "(0, [])\n",
      "(1, [[7, 'link']])\n",
      "(2, [[7, 'link'], [3, 'link']])\n",
      "(3, [[7, 'link']])\n",
      "(4, [[7, 'link'], [7, 'link']])\n",
      "(5, [[7, 'link'], [7, 'link'], [8, 'link']])\n",
      "3>0\n",
      "(6, [[7, 'link']])\n",
      "(7, [[7, 'link'], [6, 'link']])\n",
      "(8, [[7, 'link'], [6, 'link'], [7, 'link']])\n",
      "(9, [[7, 'link'], [6, 'link'], [7, 'link'], [7, 'link']])\n",
      "(10, [[7, 'link'], [6, 'link'], [9, 'value']])\n",
      "(11, [[7, 'link'], [6, 'link']])\n",
      "(12, [[7, 'link'], [6, 'link'], [6, 'link']])\n",
      "9\n"
     ]
    },
    {
     "data": {
      "text/plain": [
       "{1: [1, 'numb', 1],\n",
       " 2: [2, 'numb', 2],\n",
       " 3: [3, 'numb', 3],\n",
       " 4: [4.5, 'numb', 4.5],\n",
       " 5: ['some_string', 'char', 'some_string'],\n",
       " 6: ['a', 'var', 9],\n",
       " 7: ['b', 'var', 3],\n",
       " 8: ['c', 'mark', 11]}"
      ]
     },
     "execution_count": 28,
     "metadata": {},
     "output_type": "execute_result"
    }
   ],
   "source": [
    "worker.count_reversed_form(stack)"
   ]
  },
  {
   "cell_type": "code",
   "execution_count": 112,
   "metadata": {
    "collapsed": false
   },
   "outputs": [
    {
     "data": {
      "text/plain": [
       "{1: [1, 'numb', 1],\n",
       " 2: [2, 'numb', 2],\n",
       " 3: [3, 'numb', 3],\n",
       " 4: [4.5, 'numb', 4.5],\n",
       " 5: ['some_string', 'char', 'some_string'],\n",
       " 6: ['a', 'var', nan],\n",
       " 7: ['b', 'var', nan]}"
      ]
     },
     "execution_count": 112,
     "metadata": {},
     "output_type": "execute_result"
    }
   ],
   "source": [
    "operands"
   ]
  },
  {
   "cell_type": "code",
   "execution_count": null,
   "metadata": {
    "collapsed": true
   },
   "outputs": [],
   "source": [
    "a='dsfsdf'"
   ]
  },
  {
   "cell_type": "code",
   "execution_count": null,
   "metadata": {
    "collapsed": true
   },
   "outputs": [],
   "source": [
    "a=[[1,'a'],[2,'b'],[3,'c']]"
   ]
  },
  {
   "cell_type": "code",
   "execution_count": null,
   "metadata": {
    "collapsed": false
   },
   "outputs": [],
   "source": [
    "for i in a[-2:]:\n",
    "    print(i)"
   ]
  },
  {
   "cell_type": "code",
   "execution_count": null,
   "metadata": {
    "collapsed": false
   },
   "outputs": [],
   "source": [
    "print(names)"
   ]
  },
  {
   "cell_type": "code",
   "execution_count": null,
   "metadata": {
    "collapsed": false
   },
   "outputs": [],
   "source": [
    "## 1 с перезаписью, заполнение при объявлении\n",
    "# stack=[-5,-10,101,-7,1,2,-1,4,-4,3,-2,-5,101,-7,1,2,3,-4,4,-4,-1,5,6,-2,7,8,-4,9,-1,-4,-1,-5]\n",
    "\n",
    "## 1 переменная, заполнение после объявления\n",
    "#stack=[-5,-10,101,-5,101,-7,1,2,-1,4,-4,3,-2,-5]\n",
    "\n",
    "## С goto\n",
    "# stack=[-5,-10,101,-7,1,2,-1,4,-4,3,-2,-5,  \n",
    "#        -21,30,101,-7,1,2,3,-4,4,-4,-1,5,6,-2,7,8,-4,9,-1,-4,-1,-5,30,-5,\n",
    "#        101,-7,1,2,-1,6,-4,3,-2,-5]\n",
    "\n",
    "## 2 переменные с ошибкой типов\n",
    "# stack=[-5,-10,101,-7,1,2,-1,4,-4,3,-2,-5,-10,102,-7,101,10,3,-4,4,-4,-1,5,6,-2,7,8,-4,9,-1,-4,-1,-5] \n",
    "\n",
    "## 2 переменные заполнение при объявлении\n",
    "stack=[-5,-10,101,-7,1,2,-1,4,-4,3,-2,-5,-10,102,-7,101,2,3,-4,4,-4,-1,5,6,-2,7,8,-4,9,-1,-4,-1,-5]"
   ]
  },
  {
   "cell_type": "code",
   "execution_count": null,
   "metadata": {
    "collapsed": false
   },
   "outputs": [],
   "source": [
    "table.tail(14)"
   ]
  },
  {
   "cell_type": "code",
   "execution_count": null,
   "metadata": {
    "collapsed": false
   },
   "outputs": [],
   "source": [
    "worker.interpretate()"
   ]
  },
  {
   "cell_type": "code",
   "execution_count": null,
   "metadata": {
    "collapsed": true
   },
   "outputs": [],
   "source": [
    "a=2.5"
   ]
  },
  {
   "cell_type": "code",
   "execution_count": null,
   "metadata": {
    "collapsed": false
   },
   "outputs": [],
   "source": [
    "b = str(type(a))"
   ]
  },
  {
   "cell_type": "code",
   "execution_count": null,
   "metadata": {
    "collapsed": false
   },
   "outputs": [],
   "source": [
    "b.split(\"'\")[1]"
   ]
  },
  {
   "cell_type": "code",
   "execution_count": null,
   "metadata": {
    "collapsed": false
   },
   "outputs": [],
   "source": [
    "b.find(\"'\")"
   ]
  },
  {
   "cell_type": "code",
   "execution_count": null,
   "metadata": {
    "collapsed": false
   },
   "outputs": [],
   "source": [
    "b.__repr__"
   ]
  },
  {
   "cell_type": "markdown",
   "metadata": {},
   "source": [
    "## (1+2)*4-3 <=> 1 2 + 4 × 3 -"
   ]
  },
  {
   "cell_type": "code",
   "execution_count": null,
   "metadata": {
    "collapsed": false
   },
   "outputs": [],
   "source": [
    "count_reversed_form(stack,start_point=0)"
   ]
  },
  {
   "cell_type": "code",
   "execution_count": null,
   "metadata": {
    "collapsed": false
   },
   "outputs": [],
   "source": [
    "a=[1,2,-3,4,5]"
   ]
  },
  {
   "cell_type": "code",
   "execution_count": null,
   "metadata": {
    "collapsed": false
   },
   "outputs": [],
   "source": [
    "exec(expression)"
   ]
  },
  {
   "cell_type": "code",
   "execution_count": null,
   "metadata": {
    "collapsed": true
   },
   "outputs": [],
   "source": [
    "expression=str(names[1])+str(names[-1])+str(names[3])"
   ]
  },
  {
   "cell_type": "code",
   "execution_count": null,
   "metadata": {
    "collapsed": false
   },
   "outputs": [],
   "source": [
    "a=exec(str('1')+str('+')+str('3'))"
   ]
  },
  {
   "cell_type": "code",
   "execution_count": null,
   "metadata": {
    "collapsed": false
   },
   "outputs": [],
   "source": [
    "expression"
   ]
  },
  {
   "cell_type": "code",
   "execution_count": null,
   "metadata": {
    "collapsed": true
   },
   "outputs": [],
   "source": [
    "def interpretate(self):\n",
    "        stack=self.stack\n",
    "        #print(stack)\n",
    "        i=0\n",
    "        while i!=len(stack):\n",
    "            #print(stack[i])\n",
    "            if stack[i]>100:\n",
    "                ## Work with variables\n",
    "                #print(stack[i:])\n",
    "                if stack[i-1]>-20 and stack[i-1]<=-10: ## First declaration(type before variable)\n",
    "                    #print(stack[i:])\n",
    "                    if self.find_value(stack[i]):  ## Check for redeclaration\n",
    "                        print(\"ERROR: {} variable redeclaration\".format(names[stack[i]]))\n",
    "                        return -3\n",
    "                    variable={}\n",
    "                    variable['type']=names[stack[i-1]]\n",
    "                    variable['cord']=stack[i]\n",
    "                    if stack[i+1] not in self.end_symbols: ## some computations just after declaration\n",
    "                        variable['value'],i=self.count_reversed_form(start_point=i+2)\n",
    "                        if self.get_type(variable['value'])!=variable['type']:\n",
    "                            print('ERROR: types mismatch:{}->{}'\n",
    "                                  .format(self.get_type(variable['value']),variable['type']))\n",
    "                            return -4\n",
    "                        else:\n",
    "                            self.user_variables.append(variable)\n",
    "                        #print(self.user_variables)\n",
    "                    else: ## no operations after declaration\n",
    "                        variable['value']=np.NAN\n",
    "                        self.user_variables.append(variable)\n",
    "                else :  ## variable was already declared\n",
    "                    declared_variable=self.find_value(stack[i])\n",
    "                    if not declared_variable:\n",
    "                        print('ERROR: variable {} was not declared'.format(names[stack[i]]))\n",
    "                        return -5\n",
    "                    new_value,temp=self.count_reversed_form(start_point=i+2)\n",
    "                    if self.get_type(new_value)!=declared_variable['type']:\n",
    "                            print('ERROR: types mismatch:{}->{}'\n",
    "                                  .format(self.get_type(new_value),declared_variable['type']))\n",
    "                            return -4\n",
    "                    else:\n",
    "                        self.change_value(stack[i],new_value)\n",
    "                        i=temp\n",
    "                    #print(self.user_variables)\n",
    "                i+=1\n",
    "                #print(stack[i])\n",
    "                continue\n",
    "            if stack[i]==-8:  ## goto mark\n",
    "                self.check_points[stack[i+1]]=i+1\n",
    "                continue\n",
    "            if stack[i]==-21: ## goto\n",
    "                if stack[i+1] in self.check_points.keys():\n",
    "                    i=self.check_points[stack[i]]\n",
    "                    continue\n",
    "                else:\n",
    "                    temp=stack[i+1]\n",
    "                    try:\n",
    "                        i=next(x for x in range(i+2,len(stack)) if stack[x]==temp)+1\n",
    "                        continue\n",
    "                    except:\n",
    "                        print('ERROR: no mark for goto {} found'.format(names[stack[i+1]]))\n",
    "#             if stack[i]==-31:\n",
    "                \n",
    "            i+=1\n",
    "        return self.user_variables\n",
    "    def find_value(self,cord):\n",
    "        for i in self.user_variables:\n",
    "            if i['cord']==cord:\n",
    "                return i\n",
    "        return False\n",
    "    def change_value(self,cord,new_value):\n",
    "        for i in self.user_variables:\n",
    "            if i['cord']==cord:\n",
    "                i['value']=new_value\n",
    "                return 0\n",
    "    def get_type(self,x):\n",
    "        temp=str(type(x))\n",
    "        return temp.split(\"'\")[1]"
   ]
  }
 ],
 "metadata": {
  "anaconda-cloud": {},
  "kernelspec": {
   "display_name": "Python [conda root]",
   "language": "python",
   "name": "conda-root-py"
  },
  "language_info": {
   "codemirror_mode": {
    "name": "ipython",
    "version": 2
   },
   "file_extension": ".py",
   "mimetype": "text/x-python",
   "name": "python",
   "nbconvert_exporter": "python",
   "pygments_lexer": "ipython2",
   "version": "2.7.12"
  }
 },
 "nbformat": 4,
 "nbformat_minor": 1
}
