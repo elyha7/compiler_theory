{
 "cells": [
  {
   "cell_type": "code",
   "execution_count": 8,
   "metadata": {
    "collapsed": true
   },
   "outputs": [],
   "source": [
    "import numpy as np\n",
    "import pandas as pd"
   ]
  },
  {
   "cell_type": "code",
   "execution_count": 9,
   "metadata": {
    "collapsed": true
   },
   "outputs": [],
   "source": [
    "table=pd.read_csv('names.csv')\n",
    "names=dict(np.array(table))"
   ]
  },
  {
   "cell_type": "code",
   "execution_count": 237,
   "metadata": {
    "collapsed": false
   },
   "outputs": [],
   "source": [
    "algebra_operators={-1:'+',-2:'-',-3:'*',-4:'/'}\n",
    "binar_operators={-6:'='}\n",
    "unar_operators={-5:'-',-7:'print'}\n",
    "operands={1:[1,'numb',1],2:[2,'numb',2],3:[3,'numb',3],4:[4.5,'numb',4.5],\n",
    "          5:['some_string','char','some_string'],6:['a','var',8],7:['b','var',np.NAN]}"
   ]
  },
  {
   "cell_type": "code",
   "execution_count": 238,
   "metadata": {
    "collapsed": true
   },
   "outputs": [],
   "source": [
    "stack=[6,2,2,6,-5,-1,-3,-6,-100]\n",
    "#stack=[6,5,-6,-100]"
   ]
  },
  {
   "cell_type": "code",
   "execution_count": 239,
   "metadata": {
    "collapsed": false
   },
   "outputs": [],
   "source": [
    "class parser(object):\n",
    "    def __init__(self,stack):\n",
    "        self.stack=stack\n",
    "        self.count_stack=[]\n",
    "        self.check_points={}\n",
    "        self.end_symbols=[-100]\n",
    "    def show(self):\n",
    "        print(self.user_variables)\n",
    "    def count_reversed_form(self,start_point=0):\n",
    "        stack=self.stack\n",
    "        i=0\n",
    "        while stack[i] not in self.end_symbols:\n",
    "            print(self.count_stack)\n",
    "            if stack[i] in operands.keys():\n",
    "                self.count_stack.append([stack[i],'link'])                        \n",
    "            else:\n",
    "                if stack[i] in algebra_operators:\n",
    "                    operation=algebra_operators[stack[i]]\n",
    "                    to_eval=self.unpack()\n",
    "                    if to_eval:\n",
    "                        oper_result=eval(str(to_eval[0])+operation+str(to_eval[1]))\n",
    "                        #print(oper_result)\n",
    "                        self.count_stack[-2]=[oper_result,'value']\n",
    "                        self.count_stack=self.count_stack[:-1]\n",
    "                    else:\n",
    "                        print('ERROR: wrong types')\n",
    "                        return -1\n",
    "                if stack[i] in binar_operators:\n",
    "                    value=self.unpack(number=1)\n",
    "                    #print(self.count_stack[-2])\n",
    "                    temp=[is_number(value),is_number(operands[self.count_stack[-2][0]][2])]\n",
    "                    if temp[0]==temp[1]:\n",
    "                        operands[self.count_stack[-2][0]][2]=value\n",
    "                        self.count_stack=self.count_stack[:-2]\n",
    "                if stack[i] in unar_operators:\n",
    "                    value=self.unpack(number=1)\n",
    "                    if stack[i]==-5 and is_number(value):\n",
    "                        self.count_stack[-1]=[value*-1,'value']\n",
    "                        \n",
    "                    #print(oper_result)\n",
    "                    \n",
    "                #print('___',count_stack)\n",
    "            i+=1\n",
    "        return self.count_stack\n",
    "    def unpack(self,number=2):\n",
    "        result=[]\n",
    "        if number==2:\n",
    "            for i in self.count_stack[-2:]:\n",
    "                if i[1]=='link':\n",
    "                    result.append(operands[i[0]][2])\n",
    "                    continue\n",
    "                elif i[1]=='value':\n",
    "                    result.append(i[0])\n",
    "                    continue\n",
    "                else:\n",
    "                    print('Unknown type')\n",
    "            print(result)\n",
    "            if is_number(result[0]) and is_number(result[1]):\n",
    "                return result\n",
    "            else:\n",
    "                return False\n",
    "        if number==1:\n",
    "            temp=self.count_stack[-1]\n",
    "            return (operands[temp[0]][2] if self.count_stack[-1][1]=='link' else temp[0])\n",
    "def is_number(x):\n",
    "    return isinstance(x, (int, long, float))"
   ]
  },
  {
   "cell_type": "code",
   "execution_count": 240,
   "metadata": {
    "collapsed": false
   },
   "outputs": [],
   "source": [
    "worker=parser(stack)"
   ]
  },
  {
   "cell_type": "code",
   "execution_count": 241,
   "metadata": {
    "collapsed": false
   },
   "outputs": [
    {
     "name": "stdout",
     "output_type": "stream",
     "text": [
      "[]\n",
      "[[6, 'link']]\n",
      "[[6, 'link'], [2, 'link']]\n",
      "[[6, 'link'], [2, 'link'], [2, 'link']]\n",
      "[[6, 'link'], [2, 'link'], [2, 'link'], [6, 'link']]\n",
      "[[6, 'link'], [2, 'link'], [2, 'link'], [-8, 'value']]\n",
      "[2, -8]\n",
      "[[6, 'link'], [2, 'link'], [-6, 'value']]\n",
      "[2, -6]\n",
      "[[6, 'link'], [-12, 'value']]\n"
     ]
    },
    {
     "data": {
      "text/plain": [
       "[]"
      ]
     },
     "execution_count": 241,
     "metadata": {},
     "output_type": "execute_result"
    }
   ],
   "source": [
    "worker.count_reversed_form(stack)"
   ]
  },
  {
   "cell_type": "code",
   "execution_count": 235,
   "metadata": {
    "collapsed": false
   },
   "outputs": [
    {
     "data": {
      "text/plain": [
       "{1: [1, 'numb', 1],\n",
       " 2: [2, 'numb', 2],\n",
       " 3: [3, 'numb', 3],\n",
       " 4: [4.5, 'numb', 4.5],\n",
       " 5: ['some_string', 'char', 'some_string'],\n",
       " 6: ['a', 'var', -12],\n",
       " 7: ['b', 'var', nan]}"
      ]
     },
     "execution_count": 235,
     "metadata": {},
     "output_type": "execute_result"
    }
   ],
   "source": [
    "operands"
   ]
  },
  {
   "cell_type": "code",
   "execution_count": 172,
   "metadata": {
    "collapsed": true
   },
   "outputs": [],
   "source": [
    "a='dsfsdf'"
   ]
  },
  {
   "cell_type": "code",
   "execution_count": 22,
   "metadata": {
    "collapsed": true
   },
   "outputs": [],
   "source": [
    "a=[[1,'a'],[2,'b'],[3,'c']]"
   ]
  },
  {
   "cell_type": "code",
   "execution_count": 24,
   "metadata": {
    "collapsed": false
   },
   "outputs": [
    {
     "name": "stdout",
     "output_type": "stream",
     "text": [
      "[2, 'b']\n",
      "[3, 'c']\n"
     ]
    }
   ],
   "source": [
    "for i in a[-2:]:\n",
    "    print(i)"
   ]
  },
  {
   "cell_type": "code",
   "execution_count": 154,
   "metadata": {
    "collapsed": false
   },
   "outputs": [
    {
     "name": "stdout",
     "output_type": "stream",
     "text": [
      "{1: '1', 2: '2', 3: '3', 4: '4', 5: '5', 6: '6', 7: '7', 8: '8', 9: '9', 10: '10.3', -1: '+', -40: 'for', -32: 'else', -31: 'if', 101: 'a', -21: 'goto', -11: 'float', -10: 'int', -8: ':', -7: '=', -6: '0', -5: nan, -4: '*', -3: '/', -2: '-'}\n"
     ]
    }
   ],
   "source": [
    "print(names)"
   ]
  },
  {
   "cell_type": "code",
   "execution_count": 30,
   "metadata": {
    "collapsed": false
   },
   "outputs": [],
   "source": [
    "## 1 с перезаписью, заполнение при объявлении\n",
    "# stack=[-5,-10,101,-7,1,2,-1,4,-4,3,-2,-5,101,-7,1,2,3,-4,4,-4,-1,5,6,-2,7,8,-4,9,-1,-4,-1,-5]\n",
    "\n",
    "## 1 переменная, заполнение после объявления\n",
    "#stack=[-5,-10,101,-5,101,-7,1,2,-1,4,-4,3,-2,-5]\n",
    "\n",
    "## С goto\n",
    "# stack=[-5,-10,101,-7,1,2,-1,4,-4,3,-2,-5,  \n",
    "#        -21,30,101,-7,1,2,3,-4,4,-4,-1,5,6,-2,7,8,-4,9,-1,-4,-1,-5,30,-5,\n",
    "#        101,-7,1,2,-1,6,-4,3,-2,-5]\n",
    "\n",
    "## 2 переменные с ошибкой типов\n",
    "# stack=[-5,-10,101,-7,1,2,-1,4,-4,3,-2,-5,-10,102,-7,101,10,3,-4,4,-4,-1,5,6,-2,7,8,-4,9,-1,-4,-1,-5] \n",
    "\n",
    "## 2 переменные заполнение при объявлении\n",
    "stack=[-5,-10,101,-7,1,2,-1,4,-4,3,-2,-5,-10,102,-7,101,2,3,-4,4,-4,-1,5,6,-2,7,8,-4,9,-1,-4,-1,-5]"
   ]
  },
  {
   "cell_type": "code",
   "execution_count": 157,
   "metadata": {
    "collapsed": false
   },
   "outputs": [
    {
     "data": {
      "text/html": [
       "<div>\n",
       "<table border=\"1\" class=\"dataframe\">\n",
       "  <thead>\n",
       "    <tr style=\"text-align: right;\">\n",
       "      <th></th>\n",
       "      <th>token</th>\n",
       "      <th>value</th>\n",
       "    </tr>\n",
       "  </thead>\n",
       "  <tbody>\n",
       "    <tr>\n",
       "      <th>11</th>\n",
       "      <td>-1</td>\n",
       "      <td>+</td>\n",
       "    </tr>\n",
       "    <tr>\n",
       "      <th>12</th>\n",
       "      <td>-2</td>\n",
       "      <td>-</td>\n",
       "    </tr>\n",
       "    <tr>\n",
       "      <th>13</th>\n",
       "      <td>-3</td>\n",
       "      <td>/</td>\n",
       "    </tr>\n",
       "    <tr>\n",
       "      <th>14</th>\n",
       "      <td>-4</td>\n",
       "      <td>*</td>\n",
       "    </tr>\n",
       "    <tr>\n",
       "      <th>15</th>\n",
       "      <td>-5</td>\n",
       "      <td>;</td>\n",
       "    </tr>\n",
       "    <tr>\n",
       "      <th>16</th>\n",
       "      <td>-6</td>\n",
       "      <td>0</td>\n",
       "    </tr>\n",
       "    <tr>\n",
       "      <th>17</th>\n",
       "      <td>-7</td>\n",
       "      <td>=</td>\n",
       "    </tr>\n",
       "    <tr>\n",
       "      <th>18</th>\n",
       "      <td>-8</td>\n",
       "      <td>:</td>\n",
       "    </tr>\n",
       "    <tr>\n",
       "      <th>19</th>\n",
       "      <td>-10</td>\n",
       "      <td>int</td>\n",
       "    </tr>\n",
       "    <tr>\n",
       "      <th>20</th>\n",
       "      <td>-11</td>\n",
       "      <td>float</td>\n",
       "    </tr>\n",
       "    <tr>\n",
       "      <th>21</th>\n",
       "      <td>-21</td>\n",
       "      <td>goto</td>\n",
       "    </tr>\n",
       "    <tr>\n",
       "      <th>22</th>\n",
       "      <td>-31</td>\n",
       "      <td>if</td>\n",
       "    </tr>\n",
       "    <tr>\n",
       "      <th>23</th>\n",
       "      <td>-32</td>\n",
       "      <td>else</td>\n",
       "    </tr>\n",
       "    <tr>\n",
       "      <th>24</th>\n",
       "      <td>-40</td>\n",
       "      <td>for</td>\n",
       "    </tr>\n",
       "  </tbody>\n",
       "</table>\n",
       "</div>"
      ],
      "text/plain": [
       "    token  value\n",
       "11     -1      +\n",
       "12     -2      -\n",
       "13     -3      /\n",
       "14     -4      *\n",
       "15     -5      ;\n",
       "16     -6      0\n",
       "17     -7      =\n",
       "18     -8      :\n",
       "19    -10    int\n",
       "20    -11  float\n",
       "21    -21   goto\n",
       "22    -31     if\n",
       "23    -32   else\n",
       "24    -40    for"
      ]
     },
     "execution_count": 157,
     "metadata": {},
     "output_type": "execute_result"
    }
   ],
   "source": [
    "table.tail(14)"
   ]
  },
  {
   "cell_type": "code",
   "execution_count": 149,
   "metadata": {
    "collapsed": false
   },
   "outputs": [
    {
     "data": {
      "text/plain": [
       "[{'cord': 101, 'type': 'int', 'value': 9},\n",
       " {'cord': 102, 'type': 'int', 'value': -32}]"
      ]
     },
     "execution_count": 149,
     "metadata": {},
     "output_type": "execute_result"
    }
   ],
   "source": [
    "worker.interpretate()"
   ]
  },
  {
   "cell_type": "code",
   "execution_count": 42,
   "metadata": {
    "collapsed": true
   },
   "outputs": [],
   "source": [
    "a=2.5"
   ]
  },
  {
   "cell_type": "code",
   "execution_count": 43,
   "metadata": {
    "collapsed": false
   },
   "outputs": [],
   "source": [
    "b = str(type(a))"
   ]
  },
  {
   "cell_type": "code",
   "execution_count": 51,
   "metadata": {
    "collapsed": false
   },
   "outputs": [
    {
     "data": {
      "text/plain": [
       "'float'"
      ]
     },
     "execution_count": 51,
     "metadata": {},
     "output_type": "execute_result"
    }
   ],
   "source": [
    "b.split(\"'\")[1]"
   ]
  },
  {
   "cell_type": "code",
   "execution_count": 48,
   "metadata": {
    "collapsed": false
   },
   "outputs": [
    {
     "data": {
      "text/plain": [
       "6"
      ]
     },
     "execution_count": 48,
     "metadata": {},
     "output_type": "execute_result"
    }
   ],
   "source": [
    "b.find(\"'\")"
   ]
  },
  {
   "cell_type": "code",
   "execution_count": 41,
   "metadata": {
    "collapsed": false
   },
   "outputs": [
    {
     "data": {
      "text/plain": [
       "<slot wrapper '__repr__' of 'type' objects>"
      ]
     },
     "execution_count": 41,
     "metadata": {},
     "output_type": "execute_result"
    }
   ],
   "source": [
    "b.__repr__"
   ]
  },
  {
   "cell_type": "markdown",
   "metadata": {},
   "source": [
    "## (1+2)*4-3 <=> 1 2 + 4 × 3 -"
   ]
  },
  {
   "cell_type": "code",
   "execution_count": 147,
   "metadata": {
    "collapsed": false
   },
   "outputs": [
    {
     "name": "stdout",
     "output_type": "stream",
     "text": [
      "([], 1)\n",
      "([1], 2)\n",
      "([1, 2], 3)\n",
      "([1, 2, 3], -4)\n",
      "([1, 6], 4)\n",
      "([1, 6, 4], -4)\n",
      "([1, 24], -1)\n",
      "([25], 5)\n",
      "([25, 5], 6)\n",
      "([25, 5, 6], -2)\n",
      "([25, -1], 7)\n",
      "([25, -1, 7], 8)\n",
      "([25, -1, 7, 8], -4)\n",
      "([25, -1, 56], 9)\n",
      "([25, -1, 56, 9], -1)\n",
      "([25, -1, 65], -4)\n",
      "([25, -65], -1)\n"
     ]
    },
    {
     "data": {
      "text/plain": [
       "-40"
      ]
     },
     "execution_count": 147,
     "metadata": {},
     "output_type": "execute_result"
    }
   ],
   "source": [
    "count_reversed_form(stack,start_point=0)"
   ]
  },
  {
   "cell_type": "code",
   "execution_count": 68,
   "metadata": {
    "collapsed": false
   },
   "outputs": [],
   "source": [
    "a=[1,2,-3,4,5]"
   ]
  },
  {
   "cell_type": "code",
   "execution_count": 83,
   "metadata": {
    "collapsed": false
   },
   "outputs": [
    {
     "ename": "SyntaxError",
     "evalue": "invalid syntax (<ipython-input-83-fb2e0791accf>, line 1)",
     "output_type": "error",
     "traceback": [
      "\u001b[0;36m  File \u001b[0;32m\"<ipython-input-83-fb2e0791accf>\"\u001b[0;36m, line \u001b[0;32m1\u001b[0m\n\u001b[0;31m    a.append(exec(expression))\u001b[0m\n\u001b[0m                ^\u001b[0m\n\u001b[0;31mSyntaxError\u001b[0m\u001b[0;31m:\u001b[0m invalid syntax\n"
     ]
    }
   ],
   "source": [
    "exec(expression)"
   ]
  },
  {
   "cell_type": "code",
   "execution_count": 84,
   "metadata": {
    "collapsed": true
   },
   "outputs": [],
   "source": [
    "expression=str(names[1])+str(names[-1])+str(names[3])"
   ]
  },
  {
   "cell_type": "code",
   "execution_count": 74,
   "metadata": {
    "collapsed": false
   },
   "outputs": [
    {
     "ename": "SyntaxError",
     "evalue": "invalid syntax (<ipython-input-74-caaaa06abadc>, line 1)",
     "output_type": "error",
     "traceback": [
      "\u001b[0;36m  File \u001b[0;32m\"<ipython-input-74-caaaa06abadc>\"\u001b[0;36m, line \u001b[0;32m1\u001b[0m\n\u001b[0;31m    a=exec(str('1')+str('+')+str('3'))\u001b[0m\n\u001b[0m         ^\u001b[0m\n\u001b[0;31mSyntaxError\u001b[0m\u001b[0;31m:\u001b[0m invalid syntax\n"
     ]
    }
   ],
   "source": [
    "a=exec(str('1')+str('+')+str('3'))"
   ]
  },
  {
   "cell_type": "code",
   "execution_count": 85,
   "metadata": {
    "collapsed": false
   },
   "outputs": [
    {
     "data": {
      "text/plain": [
       "'1+3'"
      ]
     },
     "execution_count": 85,
     "metadata": {},
     "output_type": "execute_result"
    }
   ],
   "source": [
    "expression"
   ]
  },
  {
   "cell_type": "code",
   "execution_count": null,
   "metadata": {
    "collapsed": true
   },
   "outputs": [],
   "source": [
    "def interpretate(self):\n",
    "        stack=self.stack\n",
    "        #print(stack)\n",
    "        i=0\n",
    "        while i!=len(stack):\n",
    "            #print(stack[i])\n",
    "            if stack[i]>100:\n",
    "                ## Work with variables\n",
    "                #print(stack[i:])\n",
    "                if stack[i-1]>-20 and stack[i-1]<=-10: ## First declaration(type before variable)\n",
    "                    #print(stack[i:])\n",
    "                    if self.find_value(stack[i]):  ## Check for redeclaration\n",
    "                        print(\"ERROR: {} variable redeclaration\".format(names[stack[i]]))\n",
    "                        return -3\n",
    "                    variable={}\n",
    "                    variable['type']=names[stack[i-1]]\n",
    "                    variable['cord']=stack[i]\n",
    "                    if stack[i+1] not in self.end_symbols: ## some computations just after declaration\n",
    "                        variable['value'],i=self.count_reversed_form(start_point=i+2)\n",
    "                        if self.get_type(variable['value'])!=variable['type']:\n",
    "                            print('ERROR: types mismatch:{}->{}'\n",
    "                                  .format(self.get_type(variable['value']),variable['type']))\n",
    "                            return -4\n",
    "                        else:\n",
    "                            self.user_variables.append(variable)\n",
    "                        #print(self.user_variables)\n",
    "                    else: ## no operations after declaration\n",
    "                        variable['value']=np.NAN\n",
    "                        self.user_variables.append(variable)\n",
    "                else :  ## variable was already declared\n",
    "                    declared_variable=self.find_value(stack[i])\n",
    "                    if not declared_variable:\n",
    "                        print('ERROR: variable {} was not declared'.format(names[stack[i]]))\n",
    "                        return -5\n",
    "                    new_value,temp=self.count_reversed_form(start_point=i+2)\n",
    "                    if self.get_type(new_value)!=declared_variable['type']:\n",
    "                            print('ERROR: types mismatch:{}->{}'\n",
    "                                  .format(self.get_type(new_value),declared_variable['type']))\n",
    "                            return -4\n",
    "                    else:\n",
    "                        self.change_value(stack[i],new_value)\n",
    "                        i=temp\n",
    "                    #print(self.user_variables)\n",
    "                i+=1\n",
    "                #print(stack[i])\n",
    "                continue\n",
    "            if stack[i]==-8:  ## goto mark\n",
    "                self.check_points[stack[i+1]]=i+1\n",
    "                continue\n",
    "            if stack[i]==-21: ## goto\n",
    "                if stack[i+1] in self.check_points.keys():\n",
    "                    i=self.check_points[stack[i]]\n",
    "                    continue\n",
    "                else:\n",
    "                    temp=stack[i+1]\n",
    "                    try:\n",
    "                        i=next(x for x in range(i+2,len(stack)) if stack[x]==temp)+1\n",
    "                        continue\n",
    "                    except:\n",
    "                        print('ERROR: no mark for goto {} found'.format(names[stack[i+1]]))\n",
    "#             if stack[i]==-31:\n",
    "                \n",
    "            i+=1\n",
    "        return self.user_variables\n",
    "    def find_value(self,cord):\n",
    "        for i in self.user_variables:\n",
    "            if i['cord']==cord:\n",
    "                return i\n",
    "        return False\n",
    "    def change_value(self,cord,new_value):\n",
    "        for i in self.user_variables:\n",
    "            if i['cord']==cord:\n",
    "                i['value']=new_value\n",
    "                return 0\n",
    "    def get_type(self,x):\n",
    "        temp=str(type(x))\n",
    "        return temp.split(\"'\")[1]"
   ]
  }
 ],
 "metadata": {
  "anaconda-cloud": {},
  "kernelspec": {
   "display_name": "Python [conda root]",
   "language": "python",
   "name": "conda-root-py"
  },
  "language_info": {
   "codemirror_mode": {
    "name": "ipython",
    "version": 2
   },
   "file_extension": ".py",
   "mimetype": "text/x-python",
   "name": "python",
   "nbconvert_exporter": "python",
   "pygments_lexer": "ipython2",
   "version": "2.7.12"
  }
 },
 "nbformat": 4,
 "nbformat_minor": 1
}
